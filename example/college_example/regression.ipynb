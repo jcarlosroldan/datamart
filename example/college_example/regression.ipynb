{
 "cells": [
  {
   "cell_type": "code",
   "execution_count": 1,
   "metadata": {
    "collapsed": true
   },
   "outputs": [],
   "source": [
    "\n",
    "from datamart import search\n",
    "from datamart.utilities.utils import SEARCH_URL\n",
    "import json\n",
    "\n",
    "from example.college_example.regression_demo import *\n",
    "\n",
    "train_ = 'example/college_example/college_datasets/college_train.csv'\n",
    "test_ = 'example/college_example/college_datasets/college_test.csv'\n",
    "ground_truth_file = 'example/college_example/college_datasets/college_targets.csv'\n",
    "\n"
   ]
  },
  {
   "cell_type": "code",
   "execution_count": 2,
   "metadata": {},
   "outputs": [
    {
     "name": "stdout",
     "output_type": "stream",
     "text": [
      "   d3mIndex    UNITID                                             INSTNM  \\\n0         0  12268508          San Joaquin Valley College-Rancho Cordova   \n1         1    207564  Oklahoma State University Institute of Technology   \n2         2    420024                         Centura College-Chesapeake   \n3         3    164492                                 Anna Maria College   \n4         4    234085                        Virginia Military Institute   \n\n   PCTFLOAN  CONTROL STABBR  PCIP16  MD_EARN_WNE_P10  PPTUG_EF  UGDS_WHITE  \\\n0       NaN        3     CA     NaN          28300.0       NaN         NaN   \n1    0.4750        1     OK  0.0000          35300.0    0.2297      0.2953   \n2    0.8125        3     VA  0.0000          21900.0    0.2315      0.2808   \n3    0.7465        2     MA  0.0000          44800.0    0.2621      0.6518   \n4    0.4589        1     VA  0.0321          65700.0    0.0000      0.7992   \n\n   UGDS_BLACK  UGDS_HISP  UGDS_ASIAN  SATMTMID  SATVRMID  SATWRMID    UGDS  \\\n0         NaN        NaN         NaN       NaN       NaN       NaN     NaN   \n1      0.0291     0.0647      0.0051       NaN       NaN       NaN  2164.0   \n2      0.5665     0.0493      0.0000       NaN       NaN       NaN   203.0   \n3      0.1258     0.1022      0.0123       NaN       NaN       NaN  1057.0   \n4      0.0607     0.0584      0.0420     575.0     575.0       NaN  1713.0   \n\n   PREDDEG  DEBT_EARNINGS_RATIO  \n0        0                   49  \n1        2                   36  \n2        2                  127  \n3        3                   76  \n4        3                   53  \n(3243, 19)\n"
     ]
    }
   ],
   "source": [
    "\n",
    "train_df, train_dataset, flags = load_college(train_, calc_cols, flag_col, False)\n",
    "print(train_df.head(5))\n",
    "print(train_df.shape)"
   ]
  },
  {
   "cell_type": "code",
   "execution_count": 3,
   "metadata": {},
   "outputs": [
    {
     "name": "stdout",
     "output_type": "stream",
     "text": [
      "   d3mIndex  UNITID                                       INSTNM  PCTFLOAN  \\\n0         6  451714         Paul Mitchell the School-San Antonio    0.5457   \n1         8  216542                   University of Valley Forge    0.7312   \n2        12  193584                             Nazareth College    0.7789   \n3        14  416670  Tennessee Academy of Cosmetology-Stage Road    0.6614   \n4        17  195702           Saint Elizabeth College of Nursing    0.8981   \n\n   CONTROL STABBR  PCIP16  MD_EARN_WNE_P10  PPTUG_EF  UGDS_WHITE  UGDS_BLACK  \\\n0        3     TX  0.0000          28000.0    0.0488      0.2369      0.0523   \n1        2     PA  0.0000          31100.0    0.1590      0.5431      0.1712   \n2        2     NY  0.0168          44300.0    0.0405      0.7765      0.0664   \n3        3     TN  0.0000          19600.0    0.3939      0.3030      0.6364   \n4        2     NY  0.0000          59100.0    0.6888      0.8878      0.0255   \n\n   UGDS_HISP  UGDS_ASIAN  SATMTMID  SATVRMID  SATWRMID    UGDS  PREDDEG  \\\n0     0.5958      0.0244       NaN       NaN       NaN   287.0        1   \n1     0.1792      0.0121       NaN       NaN       NaN   742.0        3   \n2     0.0532      0.0306       NaN       NaN       NaN  2125.0        3   \n3     0.0303      0.0303       NaN       NaN       NaN    33.0        1   \n4     0.0153      0.0306       NaN       NaN       NaN   196.0        2   \n\n   DEBT_EARNINGS_RATIO  \n0                  NaN  \n1                  NaN  \n2                  NaN  \n3                  NaN  \n4                  NaN  \n(1747, 19)\n"
     ]
    }
   ],
   "source": [
    "test_df, test_dataset, _ = load_college(test_, calc_cols, flag_col, True)\n",
    "print(test_df.head(5))\n",
    "print(test_df.shape)"
   ]
  },
  {
   "cell_type": "code",
   "execution_count": 4,
   "metadata": {},
   "outputs": [
    {
     "name": "stdout",
     "output_type": "stream",
     "text": [
      "Failed on mean_squared_log_error: Mean Squared Logarithmic Error cannot be used when targets contain negative values.\n{\n  \"explained_variance_score\": 0.466727247167957,\n  \"r2_score\": 0.4664828221623286,\n  \"mean_squared_error\": 459.5420846707296,\n  \"mean_absolute_error\": 15.065878762932964\n}\n"
     ]
    }
   ],
   "source": [
    "ground_truth = pd.read_csv(ground_truth_file).iloc[:, 1].values\n",
    "\n",
    "score1 = eval_regression(train_dataset, flags, test_dataset, ground_truth)\n",
    "\n",
    "print(json.dumps(score1, indent=2))"
   ]
  },
  {
   "cell_type": "code",
   "execution_count": 5,
   "metadata": {},
   "outputs": [
    {
     "name": "stdout",
     "output_type": "stream",
     "text": [
      " - Most Recent Cohorts All Data Elements -\n    * Datamart ID: 291330000\n    * Score: 4107.445\n    * Description: College Scorecard Data\nFind the college that’s the best fit for you! The U.S. Department of\nEducation’s College Scorecard has the most reliable data on college costs,\ngraduation, and post-college earnings.\n\n    * URL: https://ed-public-download.app.cloud.gov/downloads/Most-Recent-Cohorts-All-Data-Elements.csv\n    * Columns: \n\t[0] UNITID \n\t[1] OPEID \n\t[2] OPEID6 \n\t[3] INSTNM \n\t[4] CITY \n\t ... \n\t[1894] OMAWDP6_PTNFT_POOLED_SUPP \n\t[1895] OMAWDP8_PTNFT_POOLED_SUPP \n\t[1896] OMENRYP8_PTNFT_POOLED_SUPP \n\t[1897] OMENRAP8_PTNFT_POOLED_SUPP \n\t[1898] OMENRUP8_PTNFT_POOLED_SUPP \n    * Recommend Join Columns: \n\t    Original Columns <-> datamart.Dataset Columns\n\t                 [2] <-> [3]                 \n        \n - What's new from NSLDS -\n    * Datamart ID: 291340000\n    * Score: 4042.34\n    * Description: College Scorecard Data\nFind the college that’s the best fit for you! The U.S. Department of\nEducation’s College Scorecard has the most reliable data on college costs,\ngraduation, and post-college earnings.\n\n    * URL: https://ed-public-download.app.cloud.gov/downloads/Most-Recent-Cohorts-NSLDS-Elements.csv\n    * Columns: \n\t[0] UNITID \n\t[1] OPEID \n\t[2] OPEID6 \n\t[3] INSTNM \n\t[4] SCH_DEG \n\t ... \n\t[1190] NOPELL_RPY_3YR_RT_SUPP \n\t[1191] FEMALE_RPY_3YR_RT_SUPP \n\t[1192] MALE_RPY_3YR_RT_SUPP \n\t[1193] FIRSTGEN_RPY_3YR_RT_SUPP \n\t[1194] NOTFIRSTGEN_RPY_3YR_RT_SUPP \n    * Recommend Join Columns: \n\t    Original Columns <-> datamart.Dataset Columns\n\t                 [2] <-> [3]                 \n        \n - Most Recent Cohorts Scorecard Elements -\n    * Datamart ID: 291320000\n    * Score: 2890.0872\n    * Description: College Scorecard Data\nFind the college that’s the best fit for you! The U.S. Department of\nEducation’s College Scorecard has the most reliable data on college costs,\ngraduation, and post-college earnings.\n\n    * URL: https://ed-public-download.app.cloud.gov/downloads/Most-Recent-Cohorts-Scorecard-Elements.csv\n    * Columns: \n\t[0] UNITID \n\t[1] OPEID \n\t[2] OPEID6 \n\t[3] INSTNM \n\t[4] CITY \n\t ... \n\t[119] GRAD_DEBT_MDN_SUPP \n\t[120] GRAD_DEBT_MDN10YR_SUPP \n\t[121] RPY_3YR_RT_SUPP \n\t[122] C150_L4_POOLED_SUPP \n\t[123] C150_4_POOLED_SUPP \n    * Recommend Join Columns: \n\t    Original Columns <-> datamart.Dataset Columns\n\t                 [2] <-> [3]                 \n        \n - Post-school earnings -\n    * Datamart ID: 291350000\n    * Score: 2877.984\n    * Description: College Scorecard Data\nFind the college that’s the best fit for you! The U.S. Department of\nEducation’s College Scorecard has the most reliable data on college costs,\ngraduation, and post-college earnings.\n\n    * URL: https://ed-public-download.app.cloud.gov/downloads/Most-Recent-Cohorts-Treasury-Elements.csv\n    * Columns: \n\t[0] UNITID \n\t[1] OPEID \n\t[2] OPEID6 \n\t[3] INSTNM \n\t[4] COUNT_ED \n\t ... \n\t[87] SD_EARN_WNE_P9 \n\t[88] GT_25K_P9 \n\t[89] GT_28K_P10 \n\t[90] GT_28K_P8 \n\t[91] GT_28K_P6 \n    * Recommend Join Columns: \n\t    Original Columns <-> datamart.Dataset Columns\n\t                 [2] <-> [3]                 \n        \n"
     ]
    }
   ],
   "source": [
    "# AUGMENTATION\n",
    "ori = pd.read_csv(train_)\n",
    "query = {\n",
    "    \"dataset\": {\n",
    "        \"about\": \"college, university, education, earning\"\n",
    "    },\n",
    "    \"required_variables\": [\n",
    "        {\"type\": \"dataframe_columns\", \"index\": [2]}\n",
    "    ]\n",
    "}\n",
    "res = search(SEARCH_URL, query, ori, return_named_entity=False)\n",
    "# 291330000 291340000 291320000 291350000\n",
    "for r in res:\n",
    "    print(r.summary)"
   ]
  },
  {
   "cell_type": "code",
   "execution_count": 6,
   "metadata": {},
   "outputs": [
    {
     "name": "stdout",
     "output_type": "stream",
     "text": [
      "/Users/dongyuli/isi/repos/datamart/example/college_example/augmented_college_train.csv\n   d3mIndex    UNITID                                             INSTNM  \\\n0         0  12268508          San Joaquin Valley College-Rancho Cordova   \n1         1    207564  Oklahoma State University Institute of Technology   \n2         2    420024                         Centura College-Chesapeake   \n3         3    164492                                 Anna Maria College   \n4         4    234085                        Virginia Military Institute   \n\n   PCTFLOAN  CONTROL STABBR  PCIP16 MD_EARN_WNE_P10  PPTUG_EF  UGDS_WHITE  \\\n0       NaN        3     CA     NaN           28300       NaN         NaN   \n1    0.4750        1     OK  0.0000           35300    0.2297      0.2953   \n2    0.8125        3     VA  0.0000           21900    0.2315      0.2808   \n3    0.7465        2     MA  0.0000           44800    0.2621      0.6518   \n4    0.4589        1     VA  0.0321           65700    0.0000      0.7992   \n\n          ...          PCTFLOAN.1  UG25ABV  MD_EARN_WNE_P10.1  GT_25K_P6  \\\n0         ...                 NaN      NaN              28300        NaN   \n1         ...              0.4750   0.2874              35300       0.61   \n2         ...              0.8125   0.6625              21900      0.256   \n3         ...              0.7465   0.3138              44800      0.668   \n4         ...              0.4589   0.0017              65700      0.777   \n\n   GT_28K_P6  GRAD_DEBT_MDN_SUPP  GRAD_DEBT_MDN10YR_SUPP  RPY_3YR_RT_SUPP  \\\n0      0.423               12000        127.572096094281     0.3015602145   \n1      0.593               12000        127.572096094281      0.501994302   \n2      0.203               20000        212.620160157136     0.1454356126   \n3      0.608             25374.5        269.756512695362      0.576119403   \n4      0.738               23900        254.081091387777     0.8394793926   \n\n   C150_L4_POOLED_SUPP  C150_4_POOLED_SUPP  \n0                  NaN                 NaN  \n1                  NaN              0.3087  \n2               0.6471                 NaN  \n3                  NaN              0.3606  \n4                  NaN              0.7606  \n\n[5 rows x 142 columns]\n"
     ]
    },
    {
     "name": "stdout",
     "output_type": "stream",
     "text": [
      "   d3mIndex    UNITID                                             INSTNM  \\\n0         0  12268508          San Joaquin Valley College-Rancho Cordova   \n1         1    207564  Oklahoma State University Institute of Technology   \n2         2    420024                         Centura College-Chesapeake   \n3         3    164492                                 Anna Maria College   \n4         4    234085                        Virginia Military Institute   \n\n   PCTFLOAN  CONTROL STABBR  PCIP16  MD_EARN_WNE_P10  PPTUG_EF  UGDS_WHITE  \\\n0       NaN        3     CA     NaN          28300.0       NaN         NaN   \n1    0.4750        1     OK  0.0000          35300.0    0.2297      0.2953   \n2    0.8125        3     VA  0.0000          21900.0    0.2315      0.2808   \n3    0.7465        2     MA  0.0000          44800.0    0.2621      0.6518   \n4    0.4589        1     VA  0.0321          65700.0    0.0000      0.7992   \n\n          ...          PCTFLOAN.1  UG25ABV  MD_EARN_WNE_P10.1  GT_25K_P6  \\\n0         ...                 NaN      NaN            28300.0        NaN   \n1         ...              0.4750   0.2874            35300.0      0.610   \n2         ...              0.8125   0.6625            21900.0      0.256   \n3         ...              0.7465   0.3138            44800.0      0.668   \n4         ...              0.4589   0.0017            65700.0      0.777   \n\n   GT_28K_P6  GRAD_DEBT_MDN_SUPP  GRAD_DEBT_MDN10YR_SUPP  RPY_3YR_RT_SUPP  \\\n0      0.423             12000.0              127.572096         0.301560   \n1      0.593             12000.0              127.572096         0.501994   \n2      0.203             20000.0              212.620160         0.145436   \n3      0.608             25374.5              269.756513         0.576119   \n4      0.738             23900.0              254.081091         0.839479   \n\n   C150_L4_POOLED_SUPP  C150_4_POOLED_SUPP  \n0                  NaN                 NaN  \n1                  NaN              0.3087  \n2               0.6471                 NaN  \n3                  NaN              0.3606  \n4                  NaN              0.7606  \n\n[5 rows x 142 columns]\n(3243, 142)\n"
     ]
    }
   ],
   "source": [
    "\n",
    "train_df_aug, train_np_aug, _ = augment_college(train_, res[2])\n",
    "print(train_df_aug.head(5))\n",
    "print(train_df_aug.shape)"
   ]
  },
  {
   "cell_type": "code",
   "execution_count": 7,
   "metadata": {},
   "outputs": [
    {
     "name": "stdout",
     "output_type": "stream",
     "text": [
      "/Users/dongyuli/isi/repos/datamart/example/college_example/augmented_college_test.csv\n   d3mIndex  UNITID                                       INSTNM  PCTFLOAN  \\\n0         6  451714         Paul Mitchell the School-San Antonio    0.5457   \n1         8  216542                   University of Valley Forge    0.7312   \n2        12  193584                             Nazareth College    0.7789   \n3        14  416670  Tennessee Academy of Cosmetology-Stage Road    0.6614   \n4        17  195702           Saint Elizabeth College of Nursing    0.8981   \n\n   CONTROL STABBR  PCIP16 MD_EARN_WNE_P10  PPTUG_EF  UGDS_WHITE  \\\n0        3     TX  0.0000           28000    0.0488      0.2369   \n1        2     PA  0.0000           31100    0.1590      0.5431   \n2        2     NY  0.0168           44300    0.0405      0.7765   \n3        3     TN  0.0000           19600    0.3939      0.3030   \n4        2     NY  0.0000           59100    0.6888      0.8878   \n\n          ...          PCTFLOAN.1  UG25ABV  MD_EARN_WNE_P10.1  GT_25K_P6  \\\n0         ...              0.5457   0.3266              28000      0.454   \n1         ...              0.7312   0.1714              31100      0.493   \n2         ...              0.7789   0.0759              44300       0.74   \n3         ...              0.6614   0.5854              19600      0.214   \n4         ...                 NaN      NaN              59100        NaN   \n\n   GT_28K_P6  GRAD_DEBT_MDN_SUPP  GRAD_DEBT_MDN10YR_SUPP  RPY_3YR_RT_SUPP  \\\n0      0.402                9833        104.534701741256     0.4402116402   \n1      0.458               27000        287.037216212134     0.5202205882   \n2      0.699               26582        282.593454864849     0.6878814298   \n3      0.291                7917        84.1656903982024     0.2643171806   \n4      0.810               16000        170.096128125709     0.7382198953   \n\n   C150_L4_POOLED_SUPP  C150_4_POOLED_SUPP  \n0               0.6238                 NaN  \n1                  NaN              0.4494  \n2                  NaN              0.7088  \n3               0.6393                 NaN  \n4                  NaN                 NaN  \n\n[5 rows x 142 columns]\n"
     ]
    },
    {
     "name": "stdout",
     "output_type": "stream",
     "text": [
      "   d3mIndex  UNITID                                       INSTNM  PCTFLOAN  \\\n0         6  451714         Paul Mitchell the School-San Antonio    0.5457   \n1         8  216542                   University of Valley Forge    0.7312   \n2        12  193584                             Nazareth College    0.7789   \n3        14  416670  Tennessee Academy of Cosmetology-Stage Road    0.6614   \n4        17  195702           Saint Elizabeth College of Nursing    0.8981   \n\n   CONTROL STABBR  PCIP16  MD_EARN_WNE_P10  PPTUG_EF  UGDS_WHITE  \\\n0        3     TX  0.0000          28000.0    0.0488      0.2369   \n1        2     PA  0.0000          31100.0    0.1590      0.5431   \n2        2     NY  0.0168          44300.0    0.0405      0.7765   \n3        3     TN  0.0000          19600.0    0.3939      0.3030   \n4        2     NY  0.0000          59100.0    0.6888      0.8878   \n\n          ...          PCTFLOAN.1  UG25ABV  MD_EARN_WNE_P10.1  GT_25K_P6  \\\n0         ...              0.5457   0.3266            28000.0      0.454   \n1         ...              0.7312   0.1714            31100.0      0.493   \n2         ...              0.7789   0.0759            44300.0      0.740   \n3         ...              0.6614   0.5854            19600.0      0.214   \n4         ...                 NaN      NaN            59100.0        NaN   \n\n   GT_28K_P6  GRAD_DEBT_MDN_SUPP  GRAD_DEBT_MDN10YR_SUPP  RPY_3YR_RT_SUPP  \\\n0      0.402              9833.0              104.534702         0.440212   \n1      0.458             27000.0              287.037216         0.520221   \n2      0.699             26582.0              282.593455         0.687881   \n3      0.291              7917.0               84.165690         0.264317   \n4      0.810             16000.0              170.096128         0.738220   \n\n   C150_L4_POOLED_SUPP  C150_4_POOLED_SUPP  \n0               0.6238                 NaN  \n1                  NaN              0.4494  \n2                  NaN              0.7088  \n3               0.6393                 NaN  \n4                  NaN                 NaN  \n\n[5 rows x 142 columns]\n(1747, 19)\n"
     ]
    }
   ],
   "source": [
    "test_df_aug, test_np_aug, _ = augment_college(test_, res[2])\n",
    "print(test_df_aug.head(5))\n",
    "print(test_df.shape)\n",
    "\n"
   ]
  },
  {
   "cell_type": "code",
   "execution_count": 9,
   "metadata": {
    "collapsed": false
   },
   "outputs": [
    {
     "name": "stdout",
     "output_type": "stream",
     "text": [
      "Failed on mean_squared_log_error: Mean Squared Logarithmic Error cannot be used when targets contain negative values.\n{\n  \"explained_variance_score\": 0.8928653416369062,\n  \"r2_score\": 0.8386725788506231,\n  \"mean_squared_error\": 138.9584862665741,\n  \"mean_absolute_error\": 9.059746612251518\n}\n"
     ]
    },
    {
     "name": "stderr",
     "output_type": "stream",
     "text": [
      "/anaconda3/envs/datamart_env/lib/python3.6/site-packages/sklearn/linear_model/ridge.py:125: LinAlgWarning: scipy.linalg.solve\nIll-conditioned matrix detected. Result is not guaranteed to be accurate.\nReciprocal condition number6.030217e-19\n  overwrite_a=True).T\n"
     ]
    }
   ],
   "source": [
    "\n",
    "score2 = eval_regression(train_np_aug, flags, test_np_aug, ground_truth)\n",
    "print(json.dumps(score2, indent=2))"
   ]
  },
  {
   "cell_type": "code",
   "execution_count": 10,
   "metadata": {},
   "outputs": [
    {
     "name": "stdout",
     "output_type": "stream",
     "text": [
      "metric.*                      original                      augmented                     \nexplained_variance_score      0.466727247167957             0.8928653416369062            \nr2_score                      0.4664828221623286            0.8386725788506231            \nmean_squared_error            459.5420846707296             138.9584862665741             \nmean_absolute_error           15.065878762932964            9.059746612251518             \n"
     ]
    }
   ],
   "source": [
    "print(\"{:<30}{:<30}{:<30}\".format(\"metric.*\", \"original\", \"augmented\"))\n",
    "      \n",
    "for i, pair in enumerate(score1.items()):\n",
    "    name, score = pair\n",
    "    print(\"{:<30}{:<30}{:<30}\".format(name, score, list(score2.values())[i]))"
   ]
  },
  {
   "cell_type": "code",
   "execution_count": null,
   "metadata": {},
   "outputs": [],
   "source": []
  }
 ],
 "metadata": {
  "kernelspec": {
   "display_name": "Python 2",
   "language": "python",
   "name": "python2"
  },
  "language_info": {
   "codemirror_mode": {
    "name": "ipython",
    "version": 2
   },
   "file_extension": ".py",
   "mimetype": "text/x-python",
   "name": "python",
   "nbconvert_exporter": "python",
   "pygments_lexer": "ipython2",
   "version": "2.7.6"
  }
 },
 "nbformat": 4,
 "nbformat_minor": 0
}
