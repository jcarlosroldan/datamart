{
 "cells": [
  {
   "cell_type": "code",
   "execution_count": 9,
   "metadata": {},
   "outputs": [],
   "source": [
    "import sys\n",
    "sys.path.append('../..')\n",
    "from datamart import search, augment\n",
    "import json\n",
    "import pandas as pd\n",
    "from datamart.utilities.utils import SEARCH_URL"
   ]
  },
  {
   "cell_type": "code",
   "execution_count": 10,
   "metadata": {},
   "outputs": [
    {
     "name": "stdout",
     "output_type": "stream",
     "text": [
      "----- ORIGINAL DATA ------\n",
      "   Year         Name Inducted members     Inducted by [11]\n",
      "0  1986  Chuck Berry              NaN  Keith Richards [N2]\n",
      "1  1986  James Brown              NaN   Steve Winwood [N2]\n",
      "2  1986  Ray Charles              NaN    Quincy Jones [N2]\n",
      "3  1986    Sam Cooke              NaN     Herb Alpert [N2]\n",
      "4  1986  Fats Domino              NaN      Billy Joel [N2]\n"
     ]
    }
   ],
   "source": [
    "hof_df = pd.read_csv('hof.csv')\n",
    "print('----- ORIGINAL DATA ------')\n",
    "print(hof_df.head(5))"
   ]
  },
  {
   "cell_type": "code",
   "execution_count": 11,
   "metadata": {},
   "outputs": [
    {
     "name": "stdout",
     "output_type": "stream",
     "text": [
      "----- SEARCH RESULTS (got 3 results)-----\n",
      " - SUMMARY OF THE DATAMART DATASET -\n",
      " * Datamart ID: 285020000\n",
      " * Score: 584.553\n",
      " * Title: WIKIDATA_PROP_DISCOGRAPHY\n",
      " * Description: link to discography in artist or band page\n",
      " * URL: https://www.wikidata.org/wiki/Property:P358\n",
      " * Columns: \n",
      "\t[0] source \n",
      "\t[1] category \n",
      "\t[2] prop_value \n",
      "\t[3] subject_label (http://www.wikidata.org/entity/Q163722, http://www.wikidata.org/entity/Q125886, http://www.wikidata.org/entity/Q126584 ...)\n",
      "\t[4] value_label (Karel Gott discography, Selena Gomez & the Scene discography, Eurythmics discography ...)\n",
      " * Recommend Join Columns: \n",
      "\t    Original Columns <-> datamart.Dataset Columns\n",
      "\t                 [1] <-> [4]                 \n",
      "        \n",
      " - SUMMARY OF THE DATAMART DATASET -\n",
      " * Datamart ID: 282040000\n",
      " * Score: 421.00208\n",
      " * Title: WIKIDATA_PROP_COMPOSER\n",
      " * Description: person(s) who wrote the music [for lyricist, use \"lyrics by\" (P676)]\n",
      " * URL: https://www.wikidata.org/wiki/Property:P86\n",
      " * Columns: \n",
      "\t[0] source \n",
      "\t[1] category \n",
      "\t[2] prop_value \n",
      "\t[3] subject_label (http://www.wikidata.org/entity/Q66075, http://www.wikidata.org/entity/Q65932, http://www.wikidata.org/entity/Q65783 ...)\n",
      "\t[4] value_label (Niccolò Paganini, Anthony Hopkins, Georg Neumark ...)\n",
      " * Recommend Join Columns: \n",
      "\t    Original Columns <-> datamart.Dataset Columns\n",
      "\t                 [1] <-> [4]                 \n",
      "        \n",
      " - SUMMARY OF THE DATAMART DATASET -\n",
      " * Datamart ID: 285210000\n",
      " * Score: 412.17316\n",
      " * Title: WIKIDATA_PROP_PERFORMER\n",
      " * Description: performer involved in the performance or the recording of a musical work\n",
      " * URL: https://www.wikidata.org/wiki/Property:P175\n",
      " * Columns: \n",
      "\t[0] source \n",
      "\t[1] category \n",
      "\t[2] prop_value \n",
      "\t[3] subject_label (http://www.wikidata.org/entity/Q65635, http://www.wikidata.org/entity/Q65578, http://www.wikidata.org/entity/Q65843 ...)\n",
      "\t[4] value_label (Ian Pooley, Maximilian Mutzke, Uwe Schmidt ...)\n",
      " * Recommend Join Columns: \n",
      "\t    Original Columns <-> datamart.Dataset Columns\n",
      "\t                 [1] <-> [4]                 \n",
      "        \n"
     ]
    }
   ],
   "source": [
    "query = {\n",
    "    \"dataset\": {\n",
    "        \"about\": \"rock and roll, music, rock music, rock artist, rock band, music award, artist award, hall of fame, singer\"\n",
    "    },\n",
    "    \"required_variables\": [\n",
    "        {\n",
    "            \"type\": \"dataframe_columns\",\n",
    "            \"index\": [1]\n",
    "        }\n",
    "    ]\n",
    "}\n",
    "candidates = search(SEARCH_URL, query, hof_df)\n",
    "print('----- SEARCH RESULTS (got %d results)-----' % len(candidates))\n",
    "for cand in candidates:\n",
    "    print(cand.summary)"
   ]
  },
  {
   "cell_type": "code",
   "execution_count": 13,
   "metadata": {},
   "outputs": [
    {
     "name": "stdout",
     "output_type": "stream",
     "text": [
      "----- AUGMENT WITH THE 2ND RESULT -----\n",
      "(It can be very slow to materialize the results datasets, as each wikidata property can have tons of records)\n",
      "   Year         Name Inducted members     Inducted by [11]  \\\n",
      "0  1986  Chuck Berry              NaN  Keith Richards [N2]   \n",
      "1  1986  James Brown              NaN   Steve Winwood [N2]   \n",
      "2  1986  Ray Charles              NaN    Quincy Jones [N2]   \n",
      "3  1986    Sam Cooke              NaN     Herb Alpert [N2]   \n",
      "4  1986  Fats Domino              NaN      Billy Joel [N2]   \n",
      "\n",
      "                                     source subject_label category  \\\n",
      "0                                       NaN           NaN      NaN   \n",
      "1  http://www.wikidata.org/entity/Q18811649   Zero Degree     film   \n",
      "2                                       NaN           NaN      NaN   \n",
      "3                                       NaN           NaN      NaN   \n",
      "4                                       NaN           NaN      NaN   \n",
      "\n",
      "                                prop_value  \n",
      "0                                      NaN  \n",
      "1  http://www.wikidata.org/entity/Q6128009  \n",
      "2                                      NaN  \n",
      "3                                      NaN  \n",
      "4                                      NaN  \n"
     ]
    }
   ],
   "source": [
    "print('----- AUGMENT WITH THE 2ND RESULT -----')\n",
    "print('(It can be very slow to materialize the results datasets, as each wikidata property can have tons of records)')\n",
    "res = augment(original_data=hof_df, \n",
    "              augment_data=candidates[1],\n",
    "              joining_columns=([['Name']], \n",
    "                               [['value_label']])\n",
    "             )\n",
    "print(res.head())\n",
    "res.to_csv('augmented.csv', index=False)\n"
   ]
  },
  {
   "cell_type": "code",
   "execution_count": null,
   "metadata": {},
   "outputs": [],
   "source": []
  }
 ],
 "metadata": {
  "kernelspec": {
   "display_name": "Python 3",
   "language": "python",
   "name": "python3"
  },
  "language_info": {
   "codemirror_mode": {
    "name": "ipython",
    "version": 3
   },
   "file_extension": ".py",
   "mimetype": "text/x-python",
   "name": "python",
   "nbconvert_exporter": "python",
   "pygments_lexer": "ipython3",
   "version": "3.6.6"
  }
 },
 "nbformat": 4,
 "nbformat_minor": 1
}
