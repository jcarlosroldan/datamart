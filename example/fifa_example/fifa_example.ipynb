{
 "cells": [
  {
   "cell_type": "code",
   "execution_count": 5,
   "metadata": {},
   "outputs": [],
   "source": [
    "# import sys\n",
    "# sys.path.append('../..')\n",
    "from datamart import search, augment\n",
    "from datamart.utilities.utils import Utils, SEARCH_URL\n",
    "import pandas as pd\n",
    "import json"
   ]
  },
  {
   "cell_type": "code",
   "execution_count": 6,
   "metadata": {},
   "outputs": [
    {
     "name": "stdout",
     "output_type": "stream",
     "text": [
      "- READ THE SUPPLY DATASET -\n\n   d3mIndex  GameID        Date          Team      Opponent  \\\n0         0       0  14-06-2018        Russia  Saudi Arabia   \n1         1       1  14-06-2018  Saudi Arabia        Russia   \n2         2       2  15-06-2018         Egypt       Uruguay   \n3         3       3  15-06-2018       Uruguay         Egypt   \n4         4       4  15-06-2018       Morocco          Iran   \n\n   Ball Possession %  Off-Target  Blocked  Offsides  Saves  Pass Accuracy %  \\\n0                 40           3        3         3      0               78   \n1                 60           3        3         1      2               86   \n2                 43           3        2         1      3               78   \n3                 57           6        4         1      3               86   \n4                 64           6        4         0      2               86   \n\n   Passes  Distance Covered (Kms)  Yellow & Red  Man of the Match  1st Goal  \\\n0     306                     118             0                 1      12.0   \n1     511                     105             0                 0       NaN   \n2     395                     112             0                 0       NaN   \n3     589                     111             0                 1      89.0   \n4     433                     101             0                 0       NaN   \n\n         Round PSO  Goals in PSO  Own goals  \n0  Group Stage  No             0        NaN  \n1  Group Stage  No             0        NaN  \n2  Group Stage  No             0        NaN  \n3  Group Stage  No             0        NaN  \n4  Group Stage  No             0        1.0  \n"
     ]
    }
   ],
   "source": [
    "old_df = pd.read_csv(\"example/fifa_example/fifa.csv\")\n",
    "print(\"- READ THE SUPPLY DATASET -\\n\")\n",
    "print(old_df.head())"
   ]
  },
  {
   "cell_type": "code",
   "execution_count": 7,
   "metadata": {
    "collapsed": false
   },
   "outputs": [
    {
     "name": "stdout",
     "output_type": "stream",
     "text": [
      "- SEARCH DATAMART BY A DESCRIPTION JSON OBJECT -\n\nReturned 1 Datasets\n - FIFA World Cup -\n    * Datamart ID: 127860000\n    * Score: 86.15055\n    * Description: FIFA World Cup\n    * URL: https://www.football-data.org\n    * Columns: \n\t[0] id \n\t[1] season_id \n\t[2] season_startDate \n\t[3] season_endDate \n\t[4] season_currentMatchday \n\t ... \n\t[47] referees_7_name \n\t[48] referees_7_nationality \n\t[49] referees_8_id \n\t[50] referees_8_name \n\t[51] referees_8_nationality \n    * Recommend Join Columns: \n\t    Original Columns <-> datamart.Dataset Columns\n\t                 [3] <-> [24]                \n\t                 [4] <-> [22]                \n        \n"
     ]
    }
   ],
   "source": [
    "with open(\"example/fifa_example/fifa_query.json\") as f_json:\n",
    "    query_json = json.load(f_json)\n",
    "results = search(SEARCH_URL, query_json, old_df)\n",
    "print(\"- SEARCH DATAMART BY A DESCRIPTION JSON OBJECT -\\n\")\n",
    "print(\"Returned %d Datasets\" % len(results))\n",
    "for res in results:\n",
    "    print(res.summary)"
   ]
  },
  {
   "cell_type": "code",
   "execution_count": 8,
   "metadata": {},
   "outputs": [
    {
     "name": "stdout",
     "output_type": "stream",
     "text": [
      "- MATERIALIZE SEARCH RESULTS -\n\n       id  season_id season_startDate season_endDate  season_currentMatchday  \\\n0  200000          1       2018-06-14     2018-07-15                       3   \n1  200001          1       2018-06-14     2018-07-15                       3   \n2  200006          1       2018-06-14     2018-07-15                       3   \n3  200007          1       2018-06-14     2018-07-15                       3   \n4  200012          1       2018-06-14     2018-07-15                       3   \n\n                utcDate    status  matchday        stage    group  \\\n0  2018-06-14T15:00:00Z  FINISHED       1.0  GROUP_STAGE  Group A   \n1  2018-06-15T12:00:00Z  FINISHED       1.0  GROUP_STAGE  Group A   \n2  2018-06-15T15:00:00Z  FINISHED       1.0  GROUP_STAGE  Group B   \n3  2018-06-15T18:00:00Z  FINISHED       1.0  GROUP_STAGE  Group B   \n4  2018-06-16T10:00:00Z  FINISHED       1.0  GROUP_STAGE  Group C   \n\n            ...           referees_5_nationality referees_6_id  \\\n0           ...                             None         49527   \n1           ...                             None         43884   \n2           ...                             None         15746   \n3           ...                             None         11075   \n4           ...                             None         49487   \n\n   referees_6_name  referees_6_nationality  referees_7_id  referees_7_name  \\\n0   Mauro Vigliano                    None          49528   Carlos Astroza   \n1   Cyril Gringore                    None          43854        Paweł Gil   \n2  Bastian Dankert                    None          43876      Mark Borsch   \n3     Paolo Valeri                    None          49528   Carlos Astroza   \n4   Hernán Maidana                    None          15713    Tiago Martins   \n\n   referees_7_nationality  referees_8_id  referees_8_name  \\\n0                    None          11116   Daniele Orsato   \n1                    None           9374   Clément Turpin   \n2                    None          55667     Jair Marrufo   \n3                    None          11116   Daniele Orsato   \n4                    None          55667     Jair Marrufo   \n\n   referees_8_nationality  \n0                    None  \n1                    None  \n2                    None  \n3                    None  \n4                    None  \n\n[5 rows x 52 columns]\n"
     ]
    }
   ],
   "source": [
    "new_df = Utils.get_dataset(metadata=results[0].metadata)\n",
    "print(\"- MATERIALIZE SEARCH RESULTS -\\n\")\n",
    "print(new_df.head())"
   ]
  },
  {
   "cell_type": "code",
   "execution_count": 9,
   "metadata": {},
   "outputs": [
    {
     "name": "stdout",
     "output_type": "stream",
     "text": [
      "- AUGMENT BY THE SEARCHED RESULT -\n\n"
     ]
    },
    {
     "name": "stdout",
     "output_type": "stream",
     "text": [
      "   d3mIndex  GameID        Date          Team      Opponent  \\\n0         0       0  14-06-2018        Russia  Saudi Arabia   \n1         1       1  14-06-2018  Saudi Arabia        Russia   \n2         2       2  15-06-2018         Egypt       Uruguay   \n3         3       3  15-06-2018       Uruguay         Egypt   \n4         4       4  15-06-2018       Morocco          Iran   \n\n   Ball Possession %  Off-Target  Blocked  Offsides  Saves  \\\n0                 40           3        3         3      0   \n1                 60           3        3         1      2   \n2                 43           3        2         1      3   \n3                 57           6        4         1      3   \n4                 64           6        4         0      2   \n\n            ...            referees_5_nationality  referees_6_id  \\\n0           ...                               NaN        49527.0   \n1           ...                               NaN            NaN   \n2           ...                               NaN        43884.0   \n3           ...                               NaN            NaN   \n4           ...                               NaN        15746.0   \n\n   referees_6_name  referees_6_nationality  referees_7_id  referees_7_name  \\\n0   Mauro Vigliano                     NaN        49528.0   Carlos Astroza   \n1              NaN                     NaN            NaN              NaN   \n2   Cyril Gringore                     NaN        43854.0        Paweł Gil   \n3              NaN                     NaN            NaN              NaN   \n4  Bastian Dankert                     NaN        43876.0      Mark Borsch   \n\n  referees_7_nationality referees_8_id  referees_8_name  \\\n0                    NaN       11116.0   Daniele Orsato   \n1                    NaN           NaN              NaN   \n2                    NaN        9374.0   Clément Turpin   \n3                    NaN           NaN              NaN   \n4                    NaN       55667.0     Jair Marrufo   \n\n   referees_8_nationality  \n0                     NaN  \n1                     NaN  \n2                     NaN  \n3                     NaN  \n4                     NaN  \n\n[5 rows x 70 columns]\n"
     ]
    }
   ],
   "source": [
    "target_dataset = results[0]\n",
    "\n",
    "print(\"- AUGMENT BY THE SEARCHED RESULT -\\n\")\n",
    "result = augment(original_data=old_df, \n",
    "                 augment_data=target_dataset, \n",
    "                 joining_columns=([ ['Team'],          ['Opponent']      ],\n",
    "                                  [ ['homeTeam_name'], ['awayTeam_name'] ]) \n",
    "                )\n",
    "print(result.df.head())"
   ]
  },
  {
   "cell_type": "code",
   "execution_count": 12,
   "metadata": {},
   "outputs": [
    {
     "name": "stdout",
     "output_type": "stream",
     "text": [
      "[0, None, 1, None, 2, None, 3, None, 4, None, 5, None, 6, None, 7, None, 8, None, 9, None, 10, None, 11, None, 12, None, 13, None, 14, None, 15, None, 16, None, 17, None, 18, None, 19, None, 20, None, 21, None, 22, None, 23, None, 24, None, 25, None, 26, None, 27, None, 28, None, 29, None, 30, None, 31, None, 33, None, 32, None, 35, None, 34, None, 37, None, 36, None, 38, None, 39, None, 40, None, 41, None, 42, None, 43, None, 44, None, 45, None, 47, None, 46, 62, 48, None, 49, None, 50, None, 51, None, 52, None, 53, None, 54, None, 55, None, 56, None, 57, None, 58, None, 59, None, 60, None, 61, None, 62, 46, 63, None]\n\n0.5078125\n"
     ]
    }
   ],
   "source": [
    "print(result.matched_rows)\n",
    "print()\n",
    "print(result.cover_ratio)"
   ]
  },
  {
   "cell_type": "code",
   "execution_count": null,
   "metadata": {},
   "outputs": [],
   "source": []
  }
 ],
 "metadata": {
  "kernelspec": {
   "display_name": "Python 3",
   "language": "python",
   "name": "python3"
  },
  "language_info": {
   "codemirror_mode": {
    "name": "ipython",
    "version": 3
   },
   "file_extension": ".py",
   "mimetype": "text/x-python",
   "name": "python",
   "nbconvert_exporter": "python",
   "pygments_lexer": "ipython3",
   "version": "3.6.6"
  }
 },
 "nbformat": 4,
 "nbformat_minor": 1
}
