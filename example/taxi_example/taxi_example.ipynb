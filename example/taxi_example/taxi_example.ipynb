{
 "cells": [
  {
   "cell_type": "code",
   "execution_count": 1,
   "metadata": {},
   "outputs": [],
   "source": [
    "from datamart import search, augment\n",
    "from datamart.utilities.utils import Utils, SEARCH_URL\n",
    "import pandas as pd\n",
    "import json"
   ]
  },
  {
   "cell_type": "code",
   "execution_count": 2,
   "metadata": {},
   "outputs": [
    {
     "name": "stdout",
     "output_type": "stream",
     "text": [
      "- READ THE SUPPLY DATASET -\n\n   d3mIndex tpep_pickup_datetime  num_pickups\n0         0  2018-01-01 00:00:00           67\n1         1  2018-01-01 01:00:00            8\n2         2  2018-01-01 02:00:00            0\n3         3  2018-01-01 03:00:00            0\n4         4  2018-01-01 04:00:00            7\n5         5  2018-01-01 05:00:00           10\n6         6  2018-01-01 06:00:00            9\n7         7  2018-01-01 07:00:00           28\n8         8  2018-01-01 08:00:00          157\n9         9  2018-01-01 09:00:00          259\n"
     ]
    }
   ],
   "source": [
    "old_df = pd.read_csv(\"./example/taxi_example/taxi.csv\")\n",
    "print(\"- READ THE SUPPLY DATASET -\\n\")\n",
    "print(old_df.iloc[:10, :])"
   ]
  },
  {
   "cell_type": "code",
   "execution_count": 3,
   "metadata": {},
   "outputs": [
    {
     "name": "stdout",
     "output_type": "stream",
     "text": [
      "- SEARCH DATAMART BY A DESCRIPTION JSON OBJECT -\n\nReturned 2 Datasets\n126540000\n\t{\n\t  \"datamart_id\": 126540000,\n\t  \"title\": \"Factory Orders Ex Transportation\",\n\t  \"description\": \"Factory Orders Ex Transportation of all country.\",\n\t  \"url\": \"https://api.tradingeconomics.com/historical/country/all/indicator/factory%20orders%20ex%20transportation?c=h5gsaw1lfiaezah:hmee4m9qqhrbh62&format=csv\",\n\t  \"date_updated\": \"2018-10-04T14:00:00\",\n\t  \"provenance\": {\n\t    \"source\": \"tradingeconomics.com\"\n\t  },\n\t  \"materialization\": {\n\t    \"python_path\": \"tradingeconomics_materializer\",\n\t    \"arguments\": {}\n\t  },\n\t  \"variables\": [\n\t    {\n\t      \"datamart_id\": 126540001,\n\t      \"name\": \"Country\",\n\t      \"description\": \"Name of the country\",\n\t      \"semantic_type\": [\n\t        \"http://schema.org/Text\"\n\t      ],\n\t      \"named_entity\": [\n\t        \"United States\"\n\t      ]\n\t    },\n\t    {\n\t      \"datamart_id\": 126540002,\n\t      \"name\": \"Category\",\n\t      \"description\": \"Indicator name\",\n\t      \"semantic_type\": [\n\t        \"http://schema.org/Text\"\n\t      ]\n\t    },\n\t    {\n\t      \"datamart_id\": 126540003,\n\t      \"name\": \"DateTime\",\n\t      \"description\": \"DateTime of the current value\",\n\t      \"semantic_type\": [\n\t        \"https://metadata.datadrivendiscovery.org/types/Time\"\n\t      ],\n\t      \"temporal_coverage\": {\n\t        \"start\": \"1992-03-31T00:00:00\",\n\t        \"end\": \"2018-08-31T00:00:00\"\n\t      }\n\t    },\n\t    {\n\t      \"datamart_id\": 126540004,\n\t      \"name\": \"Value\",\n\t      \"description\": \"Factory Orders Ex Transportation value of given DateTime\",\n\t      \"semantic_type\": [\n\t... ...\n126590000\n\t{\n\t  \"datamart_id\": 126590000,\n\t  \"title\": \"Durable Goods Orders Ex Transportation\",\n\t  \"description\": \"Durable Goods Orders Ex Transportation of all country.\",\n\t  \"url\": \"https://api.tradingeconomics.com/historical/country/all/indicator/durable%20goods%20orders%20ex%20transportation?c=h5gsaw1lfiaezah:hmee4m9qqhrbh62&format=csv\",\n\t  \"date_updated\": \"2018-10-25T12:30:00\",\n\t  \"provenance\": {\n\t    \"source\": \"tradingeconomics.com\"\n\t  },\n\t  \"materialization\": {\n\t    \"python_path\": \"tradingeconomics_materializer\",\n\t    \"arguments\": {}\n\t  },\n\t  \"variables\": [\n\t    {\n\t      \"datamart_id\": 126590001,\n\t      \"name\": \"Country\",\n\t      \"description\": \"Name of the country\",\n\t      \"semantic_type\": [\n\t        \"http://schema.org/Text\"\n\t      ],\n\t      \"named_entity\": [\n\t        \"United States\"\n\t      ]\n\t    },\n\t    {\n\t      \"datamart_id\": 126590002,\n\t      \"name\": \"Category\",\n\t      \"description\": \"Indicator name\",\n\t      \"semantic_type\": [\n\t        \"http://schema.org/Text\"\n\t      ]\n\t    },\n\t    {\n\t      \"datamart_id\": 126590003,\n\t      \"name\": \"DateTime\",\n\t      \"description\": \"DateTime of the current value\",\n\t      \"semantic_type\": [\n\t        \"https://metadata.datadrivendiscovery.org/types/Time\"\n\t      ],\n\t      \"temporal_coverage\": {\n\t        \"start\": \"1992-03-31T00:00:00\",\n\t        \"end\": \"2018-09-30T00:00:00\"\n\t      }\n\t    },\n\t    {\n\t      \"datamart_id\": 126590004,\n\t      \"name\": \"Value\",\n\t      \"description\": \"Durable Goods Orders Ex Transportation value of given DateTime\",\n\t      \"semantic_type\": [\n\t... ...\n"
     ]
    }
   ],
   "source": [
    "with open(\"./example/taxi_example/taxi_query.json\") as f_json:\n",
    "    query_json = json.load(f_json)\n",
    "results = search(SEARCH_URL, query_json, old_df)\n",
    "print(\"- SEARCH DATAMART BY A DESCRIPTION JSON OBJECT -\\n\")\n",
    "print(\"Returned %d Datasets\" % len(results))\n",
    "for res in results:\n",
    "    print(res.id)\n",
    "    print('\\t' + '\\n\\t'.join(json.dumps(res.metadata, indent=2).split('\\n', 50)[:50]))\n",
    "    print('\\t... ...')"
   ]
  },
  {
   "cell_type": "code",
   "execution_count": null,
   "metadata": {},
   "outputs": [],
   "source": []
  }
 ],
 "metadata": {},
 "nbformat": 4,
 "nbformat_minor": 0
}
